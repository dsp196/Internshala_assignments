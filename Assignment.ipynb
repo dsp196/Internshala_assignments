{
  "nbformat": 4,
  "nbformat_minor": 0,
  "metadata": {
    "colab": {
      "name": "Assignment.ipynb",
      "provenance": [],
      "collapsed_sections": [],
      "authorship_tag": "ABX9TyPS53lK1JAddvmDGTZc9E6a",
      "include_colab_link": true
    },
    "kernelspec": {
      "name": "python3",
      "display_name": "Python 3"
    },
    "language_info": {
      "name": "python"
    },
    "accelerator": "GPU"
  },
  "cells": [
    {
      "cell_type": "markdown",
      "metadata": {
        "id": "view-in-github",
        "colab_type": "text"
      },
      "source": [
        "<a href=\"https://colab.research.google.com/github/dsp196/Internshala_assignments/blob/main/Assignment.ipynb\" target=\"_parent\"><img src=\"https://colab.research.google.com/assets/colab-badge.svg\" alt=\"Open In Colab\"/></a>"
      ]
    },
    {
      "cell_type": "code",
      "metadata": {
        "id": "5vvgvY_RYUOw"
      },
      "source": [
        "#Importing required libraries \n",
        "import tensorflow as tf\n",
        "import tensorflow.keras as keras\n",
        "from tensorflow.keras import datasets, layers, models\n",
        "import matplotlib.pyplot as plt\n",
        "import numpy as np\n",
        "\n",
        "from keras.datasets import cifar10"
      ],
      "execution_count": null,
      "outputs": []
    },
    {
      "cell_type": "code",
      "metadata": {
        "colab": {
          "base_uri": "https://localhost:8080/"
        },
        "id": "xeaHrPutZawm",
        "outputId": "cdbeab40-a750-4684-b351-dfdc24cfd20b"
      },
      "source": [
        "(trainX, trainy), (testX, testy) = cifar10.load_data() #Train loader and Test loader \n",
        "print('Train: X=%s, y=%s' % (trainX.shape, trainy.shape))\n",
        "print('Test: X=%s, y=%s' % (testX.shape, testy.shape)) \n",
        "#Normalizing Training Data\n",
        "train_norm_x = trainX/255.0\n",
        "test_norm_x =testX/255.0"
      ],
      "execution_count": null,
      "outputs": [
        {
          "output_type": "stream",
          "text": [
            "Train: X=(50000, 32, 32, 3), y=(50000, 1)\n",
            "Test: X=(10000, 32, 32, 3), y=(10000, 1)\n"
          ],
          "name": "stdout"
        }
      ]
    },
    {
      "cell_type": "code",
      "metadata": {
        "id": "xLZkzI-QdpjR"
      },
      "source": [
        "#HyperParameters for training\n",
        "LEARNING_RATE =0.001\n",
        "EPOCHS=50"
      ],
      "execution_count": null,
      "outputs": []
    },
    {
      "cell_type": "code",
      "metadata": {
        "id": "HclGf8QjTowd"
      },
      "source": [
        "classes = [0,1,2,3,4,5,6,7,8,9]\n",
        "class_names = ['airplane', 'automobile', 'bird', 'cat', 'deer', 'dog', 'frog', 'horse', 'ship', 'truck']\n",
        "\n",
        "\n",
        "class_dict = dict(zip(classes, class_names))"
      ],
      "execution_count": null,
      "outputs": []
    },
    {
      "cell_type": "code",
      "metadata": {
        "id": "FNZXzlR2iuG3"
      },
      "source": [
        "class ModelA():\n",
        "    \n",
        "  def create_model_NetA(self):\n",
        "    NnetA = tf.keras.Sequential(name=\"NetA\")\n",
        "    NnetA.add(layers.Flatten(input_shape = (32,32,3) ))\n",
        "    NnetA.add(layers.Dense(10,activation='linear'))\n",
        "    return NnetA\n",
        "  \n",
        "\n"
      ],
      "execution_count": null,
      "outputs": []
    },
    {
      "cell_type": "code",
      "metadata": {
        "id": "ekUUOcq2p_2X"
      },
      "source": [
        "class ModelB():\n",
        "  def create_model_NetB(self):\n",
        "    NnetB = tf.keras.Sequential(name=\"NetB\")\n",
        "    NnetB.add(layers.Flatten(input_shape = (32,32,3) ))\n",
        "    NnetB.add(layers.Dense(300,activation='relu'))\n",
        "    NnetB.add(layers.Dense(10))\n",
        "    return NnetB\n",
        "    "
      ],
      "execution_count": null,
      "outputs": []
    },
    {
      "cell_type": "code",
      "metadata": {
        "id": "CMX7P91hv0no"
      },
      "source": [
        "class ModelC():\n",
        "  def create_model_NetC(self):\n",
        "    NnetC = tf.keras.Sequential(name=\"NetC\")\n",
        "    NnetC.add(layers.Conv2D(25,(5,5),activation='relu',input_shape=(32,32,3)))\n",
        "    NnetC.add(layers.MaxPooling2D((2, 2),strides=(2, 2)))\n",
        "    NnetC.add(layers.Flatten())\n",
        "    NnetC.add(layers.Dense(10))\n",
        "    return NnetC"
      ],
      "execution_count": null,
      "outputs": []
    },
    {
      "cell_type": "code",
      "metadata": {
        "id": "yDdaBMzhGIjP"
      },
      "source": [
        "modelA = ModelA()\n",
        "NetA =modelA.create_model_NetA()"
      ],
      "execution_count": null,
      "outputs": []
    },
    {
      "cell_type": "code",
      "metadata": {
        "id": "6i0ydUU6sme3"
      },
      "source": [
        "modelB = ModelB()\n",
        "NetB = modelB.create_model_NetB()"
      ],
      "execution_count": null,
      "outputs": []
    },
    {
      "cell_type": "code",
      "metadata": {
        "id": "uKIB1WyVvygp"
      },
      "source": [
        "modelC = ModelC()\n",
        "NetC = modelC.create_model_NetC()"
      ],
      "execution_count": null,
      "outputs": []
    },
    {
      "cell_type": "code",
      "metadata": {
        "id": "_NCBczrBhAHz"
      },
      "source": [
        "model_list =[NetA,NetB,NetC]"
      ],
      "execution_count": null,
      "outputs": []
    },
    {
      "cell_type": "code",
      "metadata": {
        "id": "JO_-oy2ehjGy"
      },
      "source": [
        "def compile_train_model(models,x_train, y_train,\n",
        "                        learning_rate=LEARNING_RATE,epochs=EPOCHS):\n",
        "  histories=[]\n",
        "  Test_acc =[]\n",
        "  model_names = []\n",
        "  \n",
        "  \"\"\"\n",
        "  Compiles and trains the Keras models with the given data. \n",
        "  Used  Adam optimizer for this implementation.\n",
        "  \n",
        "  learning_rate: Learning rate for the optimizer Adam\n",
        "  epochs: Number of epochs to train\n",
        "  \"\"\"\n",
        "  for model in models:\n",
        "    model_copy = model\n",
        "    model_copy.compile(optimizer=tf.keras.optimizers.Adam(lr=learning_rate),\n",
        "              loss=tf.keras.losses.SparseCategoricalCrossentropy(from_logits=True),\n",
        "              metrics=['accuracy'])\n",
        "    print(model.summary())\n",
        "    history = model_copy.fit(train_norm_x,trainy,epochs=EPOCHS,validation_data=(test_norm_x, testy))\n",
        "    test_accuracy = model.evaluate(test_norm_x,testy,verbose=1)\n",
        "    histories.append(history)\n",
        "    Test_acc.append(test_accuracy)\n",
        "    model_names.append(model_copy.name)\n",
        "  return histories,Test_acc,model_names"
      ],
      "execution_count": null,
      "outputs": []
    },
    {
      "cell_type": "code",
      "metadata": {
        "colab": {
          "base_uri": "https://localhost:8080/"
        },
        "id": "CMZHan-ckTBE",
        "outputId": "b559278b-e24b-47d7-f5c0-6b4dcd1338a1"
      },
      "source": [
        "model_histories,Test_accuracies,Model_names = compile_train_model(model_list,train_norm_x,trainy,EPOCHS,LEARNING_RATE)"
      ],
      "execution_count": null,
      "outputs": [
        {
          "output_type": "stream",
          "text": [
            "/usr/local/lib/python3.7/dist-packages/tensorflow/python/keras/optimizer_v2/optimizer_v2.py:375: UserWarning: The `lr` argument is deprecated, use `learning_rate` instead.\n",
            "  \"The `lr` argument is deprecated, use `learning_rate` instead.\")\n"
          ],
          "name": "stderr"
        },
        {
          "output_type": "stream",
          "text": [
            "Model: \"NetA\"\n",
            "_________________________________________________________________\n",
            "Layer (type)                 Output Shape              Param #   \n",
            "=================================================================\n",
            "flatten_11 (Flatten)         (None, 3072)              0         \n",
            "_________________________________________________________________\n",
            "dense_14 (Dense)             (None, 10)                30730     \n",
            "=================================================================\n",
            "Total params: 30,730\n",
            "Trainable params: 30,730\n",
            "Non-trainable params: 0\n",
            "_________________________________________________________________\n",
            "None\n",
            "Epoch 1/50\n",
            "1563/1563 [==============================] - 4s 3ms/step - loss: 17052.5449 - accuracy: 0.2380 - val_loss: 14738.4355 - val_accuracy: 0.2194\n",
            "Epoch 2/50\n",
            "1563/1563 [==============================] - 4s 2ms/step - loss: 16894.5098 - accuracy: 0.2603 - val_loss: 16286.2734 - val_accuracy: 0.2134\n",
            "Epoch 3/50\n",
            "1563/1563 [==============================] - 4s 2ms/step - loss: 16102.9922 - accuracy: 0.2702 - val_loss: 16910.2148 - val_accuracy: 0.2428\n",
            "Epoch 4/50\n",
            "1563/1563 [==============================] - 4s 2ms/step - loss: 15824.2334 - accuracy: 0.2701 - val_loss: 10785.9229 - val_accuracy: 0.2713\n",
            "Epoch 5/50\n",
            "1563/1563 [==============================] - 4s 2ms/step - loss: 15886.1797 - accuracy: 0.2739 - val_loss: 15808.2480 - val_accuracy: 0.2188\n",
            "Epoch 6/50\n",
            "1563/1563 [==============================] - 4s 2ms/step - loss: 15969.0078 - accuracy: 0.2815 - val_loss: 14398.4863 - val_accuracy: 0.2833\n",
            "Epoch 7/50\n",
            "1563/1563 [==============================] - 4s 2ms/step - loss: 15652.6348 - accuracy: 0.2839 - val_loss: 13743.8652 - val_accuracy: 0.2931\n",
            "Epoch 8/50\n",
            "1563/1563 [==============================] - 4s 2ms/step - loss: 16262.4150 - accuracy: 0.2832 - val_loss: 18725.9531 - val_accuracy: 0.2006\n",
            "Epoch 9/50\n",
            "1563/1563 [==============================] - 4s 2ms/step - loss: 16555.5234 - accuracy: 0.2838 - val_loss: 17715.9824 - val_accuracy: 0.2372\n",
            "Epoch 10/50\n",
            "1563/1563 [==============================] - 4s 3ms/step - loss: 16012.6475 - accuracy: 0.2886 - val_loss: 18915.9043 - val_accuracy: 0.2635\n",
            "Epoch 11/50\n",
            "1563/1563 [==============================] - 4s 3ms/step - loss: 17205.3750 - accuracy: 0.2808 - val_loss: 15628.6240 - val_accuracy: 0.2659\n",
            "Epoch 12/50\n",
            "1563/1563 [==============================] - 4s 2ms/step - loss: 16034.4619 - accuracy: 0.2894 - val_loss: 11112.7568 - val_accuracy: 0.3013\n",
            "Epoch 13/50\n",
            "1563/1563 [==============================] - 4s 2ms/step - loss: 16251.8652 - accuracy: 0.2882 - val_loss: 19718.0586 - val_accuracy: 0.2656\n",
            "Epoch 14/50\n",
            "1563/1563 [==============================] - 4s 2ms/step - loss: 16416.8457 - accuracy: 0.2899 - val_loss: 28153.2734 - val_accuracy: 0.1875\n",
            "Epoch 15/50\n",
            "1563/1563 [==============================] - 4s 2ms/step - loss: 16338.6992 - accuracy: 0.2916 - val_loss: 11221.2891 - val_accuracy: 0.2874\n",
            "Epoch 16/50\n",
            "1563/1563 [==============================] - 4s 2ms/step - loss: 16700.9941 - accuracy: 0.2867 - val_loss: 13912.6338 - val_accuracy: 0.2623\n",
            "Epoch 17/50\n",
            "1563/1563 [==============================] - 4s 3ms/step - loss: 15932.7383 - accuracy: 0.2946 - val_loss: 11583.7227 - val_accuracy: 0.3258\n",
            "Epoch 18/50\n",
            "1563/1563 [==============================] - 4s 3ms/step - loss: 16638.3750 - accuracy: 0.2913 - val_loss: 14541.6221 - val_accuracy: 0.2798\n",
            "Epoch 19/50\n",
            "1563/1563 [==============================] - 4s 2ms/step - loss: 16233.9971 - accuracy: 0.2964 - val_loss: 15021.6162 - val_accuracy: 0.2698\n",
            "Epoch 20/50\n",
            "1563/1563 [==============================] - 4s 2ms/step - loss: 15477.8877 - accuracy: 0.2974 - val_loss: 15347.8018 - val_accuracy: 0.2742\n",
            "Epoch 21/50\n",
            "1563/1563 [==============================] - 4s 3ms/step - loss: 16249.5928 - accuracy: 0.2937 - val_loss: 18417.9375 - val_accuracy: 0.2624\n",
            "Epoch 22/50\n",
            "1563/1563 [==============================] - 4s 3ms/step - loss: 16430.6445 - accuracy: 0.2978 - val_loss: 21013.4316 - val_accuracy: 0.2302\n",
            "Epoch 23/50\n",
            "1563/1563 [==============================] - 4s 2ms/step - loss: 15760.3555 - accuracy: 0.2963 - val_loss: 18258.9863 - val_accuracy: 0.2470\n",
            "Epoch 24/50\n",
            "1563/1563 [==============================] - 4s 2ms/step - loss: 16123.1396 - accuracy: 0.2963 - val_loss: 14397.5771 - val_accuracy: 0.2852\n",
            "Epoch 25/50\n",
            "1563/1563 [==============================] - 4s 2ms/step - loss: 16147.7803 - accuracy: 0.2964 - val_loss: 23752.6211 - val_accuracy: 0.2322\n",
            "Epoch 26/50\n",
            "1563/1563 [==============================] - 4s 2ms/step - loss: 16197.6504 - accuracy: 0.2981 - val_loss: 12468.3652 - val_accuracy: 0.2983\n",
            "Epoch 27/50\n",
            "1563/1563 [==============================] - 4s 2ms/step - loss: 15708.6807 - accuracy: 0.2970 - val_loss: 26523.1816 - val_accuracy: 0.2096\n",
            "Epoch 28/50\n",
            "1563/1563 [==============================] - 4s 2ms/step - loss: 16258.6816 - accuracy: 0.2941 - val_loss: 14533.4619 - val_accuracy: 0.2566\n",
            "Epoch 29/50\n",
            "1563/1563 [==============================] - 4s 2ms/step - loss: 16089.4199 - accuracy: 0.2962 - val_loss: 17825.4238 - val_accuracy: 0.2990\n",
            "Epoch 30/50\n",
            "1563/1563 [==============================] - 4s 2ms/step - loss: 15497.5186 - accuracy: 0.3005 - val_loss: 10422.2842 - val_accuracy: 0.3106\n",
            "Epoch 31/50\n",
            "1563/1563 [==============================] - 4s 2ms/step - loss: 16052.7959 - accuracy: 0.2941 - val_loss: 20656.9668 - val_accuracy: 0.2261\n",
            "Epoch 32/50\n",
            "1563/1563 [==============================] - 4s 2ms/step - loss: 15525.4785 - accuracy: 0.3023 - val_loss: 21977.2598 - val_accuracy: 0.2560\n",
            "Epoch 33/50\n",
            "1563/1563 [==============================] - 4s 2ms/step - loss: 15493.8701 - accuracy: 0.3024 - val_loss: 18580.6797 - val_accuracy: 0.2744\n",
            "Epoch 34/50\n",
            "1563/1563 [==============================] - 4s 2ms/step - loss: 16244.9199 - accuracy: 0.2998 - val_loss: 15048.1279 - val_accuracy: 0.2783\n",
            "Epoch 35/50\n",
            "1563/1563 [==============================] - 4s 2ms/step - loss: 16281.3545 - accuracy: 0.2989 - val_loss: 19154.0625 - val_accuracy: 0.3079\n",
            "Epoch 36/50\n",
            "1563/1563 [==============================] - 4s 3ms/step - loss: 15229.4912 - accuracy: 0.3038 - val_loss: 13847.9600 - val_accuracy: 0.3186\n",
            "Epoch 37/50\n",
            "1563/1563 [==============================] - 4s 2ms/step - loss: 16413.4219 - accuracy: 0.2987 - val_loss: 14085.3086 - val_accuracy: 0.2837\n",
            "Epoch 38/50\n",
            "1563/1563 [==============================] - 4s 3ms/step - loss: 16237.0059 - accuracy: 0.2981 - val_loss: 23393.4785 - val_accuracy: 0.2061\n",
            "Epoch 39/50\n",
            "1563/1563 [==============================] - 4s 3ms/step - loss: 15824.6084 - accuracy: 0.3016 - val_loss: 12601.7666 - val_accuracy: 0.3217\n",
            "Epoch 40/50\n",
            "1563/1563 [==============================] - 4s 3ms/step - loss: 16138.3066 - accuracy: 0.3027 - val_loss: 18397.2637 - val_accuracy: 0.2437\n",
            "Epoch 41/50\n",
            "1563/1563 [==============================] - 4s 2ms/step - loss: 15841.1133 - accuracy: 0.3027 - val_loss: 29422.0215 - val_accuracy: 0.2144\n",
            "Epoch 42/50\n",
            "1563/1563 [==============================] - 4s 3ms/step - loss: 15881.8467 - accuracy: 0.3036 - val_loss: 18762.3047 - val_accuracy: 0.2491\n",
            "Epoch 43/50\n",
            "1563/1563 [==============================] - 4s 2ms/step - loss: 15978.0312 - accuracy: 0.3013 - val_loss: 14356.0332 - val_accuracy: 0.2972\n",
            "Epoch 44/50\n",
            "1563/1563 [==============================] - 4s 2ms/step - loss: 16168.8789 - accuracy: 0.3052 - val_loss: 18090.8555 - val_accuracy: 0.2482\n",
            "Epoch 45/50\n",
            "1563/1563 [==============================] - 4s 2ms/step - loss: 15572.2402 - accuracy: 0.3053 - val_loss: 15313.0508 - val_accuracy: 0.2775\n",
            "Epoch 46/50\n",
            "1563/1563 [==============================] - 4s 2ms/step - loss: 15393.3682 - accuracy: 0.3066 - val_loss: 19100.9238 - val_accuracy: 0.2358\n",
            "Epoch 47/50\n",
            "1563/1563 [==============================] - 4s 2ms/step - loss: 16868.2988 - accuracy: 0.2999 - val_loss: 12599.6094 - val_accuracy: 0.2938\n",
            "Epoch 48/50\n",
            "1563/1563 [==============================] - 4s 2ms/step - loss: 16510.8516 - accuracy: 0.3023 - val_loss: 15337.2881 - val_accuracy: 0.2739\n",
            "Epoch 49/50\n",
            "1563/1563 [==============================] - 4s 2ms/step - loss: 15610.3057 - accuracy: 0.3069 - val_loss: 27851.5684 - val_accuracy: 0.2583\n",
            "Epoch 50/50\n",
            "1563/1563 [==============================] - 4s 2ms/step - loss: 15776.6230 - accuracy: 0.3044 - val_loss: 17205.6582 - val_accuracy: 0.2898\n",
            "313/313 [==============================] - 1s 2ms/step - loss: 17205.6582 - accuracy: 0.2898\n",
            "Model: \"NetB\"\n",
            "_________________________________________________________________\n",
            "Layer (type)                 Output Shape              Param #   \n",
            "=================================================================\n",
            "flatten_12 (Flatten)         (None, 3072)              0         \n",
            "_________________________________________________________________\n",
            "dense_15 (Dense)             (None, 300)               921900    \n",
            "_________________________________________________________________\n",
            "dense_16 (Dense)             (None, 10)                3010      \n",
            "=================================================================\n",
            "Total params: 924,910\n",
            "Trainable params: 924,910\n",
            "Non-trainable params: 0\n",
            "_________________________________________________________________\n",
            "None\n",
            "Epoch 1/50\n",
            "1563/1563 [==============================] - 5s 3ms/step - loss: 968115.5000 - accuracy: 0.1002 - val_loss: 92.0975 - val_accuracy: 0.1000\n",
            "Epoch 2/50\n",
            "1563/1563 [==============================] - 5s 3ms/step - loss: 23.2779 - accuracy: 0.1013 - val_loss: 91.3661 - val_accuracy: 0.1000\n",
            "Epoch 3/50\n",
            "1563/1563 [==============================] - 5s 3ms/step - loss: 23.5233 - accuracy: 0.0997 - val_loss: 102.5553 - val_accuracy: 0.1000\n",
            "Epoch 4/50\n",
            "1563/1563 [==============================] - 5s 3ms/step - loss: 23.5696 - accuracy: 0.1001 - val_loss: 99.4639 - val_accuracy: 0.0999\n",
            "Epoch 5/50\n",
            "1563/1563 [==============================] - 4s 3ms/step - loss: 22.8221 - accuracy: 0.0974 - val_loss: 96.0941 - val_accuracy: 0.1000\n",
            "Epoch 6/50\n",
            "1563/1563 [==============================] - 4s 3ms/step - loss: 22.5686 - accuracy: 0.0994 - val_loss: 91.2603 - val_accuracy: 0.1000\n",
            "Epoch 7/50\n",
            "1563/1563 [==============================] - 4s 3ms/step - loss: 23.3092 - accuracy: 0.0985 - val_loss: 88.0993 - val_accuracy: 0.1000\n",
            "Epoch 8/50\n",
            "1563/1563 [==============================] - 4s 3ms/step - loss: 24.0786 - accuracy: 0.1006 - val_loss: 85.8433 - val_accuracy: 0.1000\n",
            "Epoch 9/50\n",
            "1563/1563 [==============================] - 4s 3ms/step - loss: 23.4703 - accuracy: 0.1011 - val_loss: 109.6719 - val_accuracy: 0.1000\n",
            "Epoch 10/50\n",
            "1563/1563 [==============================] - 4s 3ms/step - loss: 22.9381 - accuracy: 0.1005 - val_loss: 89.4618 - val_accuracy: 0.1000\n",
            "Epoch 11/50\n",
            "1563/1563 [==============================] - 4s 3ms/step - loss: 24.2866 - accuracy: 0.0993 - val_loss: 87.8227 - val_accuracy: 0.1000\n",
            "Epoch 12/50\n",
            "1563/1563 [==============================] - 4s 3ms/step - loss: 22.5292 - accuracy: 0.0987 - val_loss: 88.6692 - val_accuracy: 0.0999\n",
            "Epoch 13/50\n",
            "1563/1563 [==============================] - 4s 3ms/step - loss: 22.8743 - accuracy: 0.1024 - val_loss: 104.8601 - val_accuracy: 0.1000\n",
            "Epoch 14/50\n",
            "1563/1563 [==============================] - 4s 3ms/step - loss: 23.4299 - accuracy: 0.1003 - val_loss: 112.7474 - val_accuracy: 0.1000\n",
            "Epoch 15/50\n",
            "1563/1563 [==============================] - 5s 3ms/step - loss: 22.5051 - accuracy: 0.0996 - val_loss: 95.6598 - val_accuracy: 0.1000\n",
            "Epoch 16/50\n",
            "1563/1563 [==============================] - 5s 3ms/step - loss: 22.7671 - accuracy: 0.1006 - val_loss: 104.8724 - val_accuracy: 0.1000\n",
            "Epoch 17/50\n",
            "1563/1563 [==============================] - 5s 3ms/step - loss: 23.5918 - accuracy: 0.1009 - val_loss: 95.3014 - val_accuracy: 0.1000\n",
            "Epoch 18/50\n",
            "1563/1563 [==============================] - 5s 3ms/step - loss: 24.1211 - accuracy: 0.1003 - val_loss: 109.1489 - val_accuracy: 0.1000\n",
            "Epoch 19/50\n",
            "1563/1563 [==============================] - 5s 3ms/step - loss: 24.2755 - accuracy: 0.1014 - val_loss: 86.4206 - val_accuracy: 0.1000\n",
            "Epoch 20/50\n",
            "1563/1563 [==============================] - 4s 3ms/step - loss: 23.6904 - accuracy: 0.1002 - val_loss: 97.2147 - val_accuracy: 0.1000\n",
            "Epoch 21/50\n",
            "1563/1563 [==============================] - 4s 3ms/step - loss: 23.2386 - accuracy: 0.1000 - val_loss: 97.1779 - val_accuracy: 0.1000\n",
            "Epoch 22/50\n",
            "1563/1563 [==============================] - 4s 3ms/step - loss: 22.0482 - accuracy: 0.0992 - val_loss: 109.2554 - val_accuracy: 0.1000\n",
            "Epoch 23/50\n",
            "1563/1563 [==============================] - 4s 3ms/step - loss: 22.9848 - accuracy: 0.1005 - val_loss: 83.7535 - val_accuracy: 0.1000\n",
            "Epoch 24/50\n",
            "1563/1563 [==============================] - 4s 3ms/step - loss: 22.8543 - accuracy: 0.0982 - val_loss: 100.0818 - val_accuracy: 0.1000\n",
            "Epoch 25/50\n",
            "1563/1563 [==============================] - 4s 3ms/step - loss: 22.9579 - accuracy: 0.1001 - val_loss: 96.7124 - val_accuracy: 0.1000\n",
            "Epoch 26/50\n",
            "1563/1563 [==============================] - 4s 3ms/step - loss: 23.6405 - accuracy: 0.0982 - val_loss: 93.6923 - val_accuracy: 0.1000\n",
            "Epoch 27/50\n",
            "1563/1563 [==============================] - 4s 3ms/step - loss: 24.1077 - accuracy: 0.0994 - val_loss: 86.7575 - val_accuracy: 0.1000\n",
            "Epoch 28/50\n",
            "1563/1563 [==============================] - 4s 3ms/step - loss: 23.6950 - accuracy: 0.1005 - val_loss: 94.2606 - val_accuracy: 0.1000\n",
            "Epoch 29/50\n",
            "1563/1563 [==============================] - 5s 3ms/step - loss: 23.1535 - accuracy: 0.1008 - val_loss: 91.3654 - val_accuracy: 0.0999\n",
            "Epoch 30/50\n",
            "1563/1563 [==============================] - 5s 3ms/step - loss: 23.3239 - accuracy: 0.0982 - val_loss: 102.0113 - val_accuracy: 0.1000\n",
            "Epoch 31/50\n",
            "1563/1563 [==============================] - 5s 3ms/step - loss: 22.4856 - accuracy: 0.0999 - val_loss: 90.0888 - val_accuracy: 0.1000\n",
            "Epoch 32/50\n",
            "1563/1563 [==============================] - 5s 3ms/step - loss: 24.3201 - accuracy: 0.1001 - val_loss: 94.7435 - val_accuracy: 0.0999\n",
            "Epoch 33/50\n",
            "1563/1563 [==============================] - 5s 3ms/step - loss: 24.0093 - accuracy: 0.0981 - val_loss: 99.1788 - val_accuracy: 0.1000\n",
            "Epoch 34/50\n",
            "1563/1563 [==============================] - 4s 3ms/step - loss: 23.1061 - accuracy: 0.0987 - val_loss: 88.9522 - val_accuracy: 0.1000\n",
            "Epoch 35/50\n",
            "1563/1563 [==============================] - 4s 3ms/step - loss: 22.9853 - accuracy: 0.1000 - val_loss: 92.1268 - val_accuracy: 0.1000\n",
            "Epoch 36/50\n",
            "1563/1563 [==============================] - 5s 3ms/step - loss: 23.7423 - accuracy: 0.1006 - val_loss: 95.1387 - val_accuracy: 0.1000\n",
            "Epoch 37/50\n",
            "1563/1563 [==============================] - 5s 3ms/step - loss: 23.5678 - accuracy: 0.0992 - val_loss: 92.6462 - val_accuracy: 0.1000\n",
            "Epoch 38/50\n",
            "1563/1563 [==============================] - 5s 3ms/step - loss: 22.7541 - accuracy: 0.0976 - val_loss: 97.3639 - val_accuracy: 0.1000\n",
            "Epoch 39/50\n",
            "1563/1563 [==============================] - 5s 3ms/step - loss: 23.6919 - accuracy: 0.1007 - val_loss: 95.1780 - val_accuracy: 0.1000\n",
            "Epoch 40/50\n",
            "1563/1563 [==============================] - 5s 3ms/step - loss: 23.8630 - accuracy: 0.0993 - val_loss: 91.7013 - val_accuracy: 0.1000\n",
            "Epoch 41/50\n",
            "1563/1563 [==============================] - 5s 3ms/step - loss: 22.6035 - accuracy: 0.1005 - val_loss: 85.3970 - val_accuracy: 0.1000\n",
            "Epoch 42/50\n",
            "1563/1563 [==============================] - 4s 3ms/step - loss: 23.4111 - accuracy: 0.1024 - val_loss: 111.4882 - val_accuracy: 0.1000\n",
            "Epoch 43/50\n",
            "1563/1563 [==============================] - 4s 3ms/step - loss: 24.1659 - accuracy: 0.0991 - val_loss: 96.9622 - val_accuracy: 0.1000\n",
            "Epoch 44/50\n",
            "1563/1563 [==============================] - 4s 3ms/step - loss: 23.1140 - accuracy: 0.1001 - val_loss: 91.4047 - val_accuracy: 0.1000\n",
            "Epoch 45/50\n",
            "1563/1563 [==============================] - 4s 3ms/step - loss: 22.4606 - accuracy: 0.0996 - val_loss: 85.4928 - val_accuracy: 0.1000\n",
            "Epoch 46/50\n",
            "1563/1563 [==============================] - 4s 3ms/step - loss: 24.0815 - accuracy: 0.1004 - val_loss: 89.5609 - val_accuracy: 0.1000\n",
            "Epoch 47/50\n",
            "1563/1563 [==============================] - 4s 3ms/step - loss: 23.4933 - accuracy: 0.1005 - val_loss: 90.4062 - val_accuracy: 0.1000\n",
            "Epoch 48/50\n",
            "1563/1563 [==============================] - 4s 3ms/step - loss: 23.7054 - accuracy: 0.0996 - val_loss: 92.9524 - val_accuracy: 0.1000\n",
            "Epoch 49/50\n",
            "1563/1563 [==============================] - 4s 3ms/step - loss: 23.1008 - accuracy: 0.0985 - val_loss: 90.3160 - val_accuracy: 0.1000\n",
            "Epoch 50/50\n",
            "1563/1563 [==============================] - 4s 3ms/step - loss: 24.1731 - accuracy: 0.1018 - val_loss: 86.0736 - val_accuracy: 0.1000\n",
            "313/313 [==============================] - 1s 2ms/step - loss: 86.0736 - accuracy: 0.1000\n",
            "Model: \"NetC\"\n",
            "_________________________________________________________________\n",
            "Layer (type)                 Output Shape              Param #   \n",
            "=================================================================\n",
            "conv2d_2 (Conv2D)            (None, 28, 28, 25)        1900      \n",
            "_________________________________________________________________\n",
            "max_pooling2d_2 (MaxPooling2 (None, 14, 14, 25)        0         \n",
            "_________________________________________________________________\n",
            "flatten_13 (Flatten)         (None, 4900)              0         \n",
            "_________________________________________________________________\n",
            "dense_17 (Dense)             (None, 10)                49010     \n",
            "=================================================================\n",
            "Total params: 50,910\n",
            "Trainable params: 50,910\n",
            "Non-trainable params: 0\n",
            "_________________________________________________________________\n",
            "None\n",
            "Epoch 1/50\n",
            "1563/1563 [==============================] - 5s 3ms/step - loss: 106958.0938 - accuracy: 0.1016 - val_loss: 23.7234 - val_accuracy: 0.1000\n",
            "Epoch 2/50\n",
            "1563/1563 [==============================] - 5s 3ms/step - loss: 22.3806 - accuracy: 0.1010 - val_loss: 13.8379 - val_accuracy: 0.1000\n",
            "Epoch 3/50\n",
            "1563/1563 [==============================] - 5s 3ms/step - loss: 24.4146 - accuracy: 0.0999 - val_loss: 33.5818 - val_accuracy: 0.1000\n",
            "Epoch 4/50\n",
            "1563/1563 [==============================] - 5s 3ms/step - loss: 24.0482 - accuracy: 0.0973 - val_loss: 29.0501 - val_accuracy: 0.1000\n",
            "Epoch 5/50\n",
            "1563/1563 [==============================] - 5s 3ms/step - loss: 23.7950 - accuracy: 0.1000 - val_loss: 30.9365 - val_accuracy: 0.1000\n",
            "Epoch 6/50\n",
            "1563/1563 [==============================] - 5s 3ms/step - loss: 24.4644 - accuracy: 0.1003 - val_loss: 22.0733 - val_accuracy: 0.1000\n",
            "Epoch 7/50\n",
            "1563/1563 [==============================] - 5s 3ms/step - loss: 22.6421 - accuracy: 0.0980 - val_loss: 18.7256 - val_accuracy: 0.1000\n",
            "Epoch 8/50\n",
            "1563/1563 [==============================] - 5s 3ms/step - loss: 23.0367 - accuracy: 0.1002 - val_loss: 16.7004 - val_accuracy: 0.1000\n",
            "Epoch 9/50\n",
            "1563/1563 [==============================] - 5s 3ms/step - loss: 22.8207 - accuracy: 0.0998 - val_loss: 30.7157 - val_accuracy: 0.1000\n",
            "Epoch 10/50\n",
            "1563/1563 [==============================] - 5s 3ms/step - loss: 23.9836 - accuracy: 0.1032 - val_loss: 13.1498 - val_accuracy: 0.1000\n",
            "Epoch 11/50\n",
            "1563/1563 [==============================] - 5s 3ms/step - loss: 23.0201 - accuracy: 0.0988 - val_loss: 16.5085 - val_accuracy: 0.1000\n",
            "Epoch 12/50\n",
            "1563/1563 [==============================] - 5s 3ms/step - loss: 22.7074 - accuracy: 0.1013 - val_loss: 15.6597 - val_accuracy: 0.1000\n",
            "Epoch 13/50\n",
            "1563/1563 [==============================] - 5s 3ms/step - loss: 23.1598 - accuracy: 0.1020 - val_loss: 28.6806 - val_accuracy: 0.1000\n",
            "Epoch 14/50\n",
            "1563/1563 [==============================] - 5s 3ms/step - loss: 22.7464 - accuracy: 0.1009 - val_loss: 20.5227 - val_accuracy: 0.1000\n",
            "Epoch 15/50\n",
            "1563/1563 [==============================] - 5s 3ms/step - loss: 23.2023 - accuracy: 0.1009 - val_loss: 28.4799 - val_accuracy: 0.1000\n",
            "Epoch 16/50\n",
            "1563/1563 [==============================] - 5s 3ms/step - loss: 22.3549 - accuracy: 0.1005 - val_loss: 17.5578 - val_accuracy: 0.1000\n",
            "Epoch 17/50\n",
            "1563/1563 [==============================] - 5s 3ms/step - loss: 23.1099 - accuracy: 0.0979 - val_loss: 21.2933 - val_accuracy: 0.1000\n",
            "Epoch 18/50\n",
            "1563/1563 [==============================] - 5s 3ms/step - loss: 23.0898 - accuracy: 0.1011 - val_loss: 27.2848 - val_accuracy: 0.1000\n",
            "Epoch 19/50\n",
            "1563/1563 [==============================] - 5s 3ms/step - loss: 22.8953 - accuracy: 0.0987 - val_loss: 21.3065 - val_accuracy: 0.1000\n",
            "Epoch 20/50\n",
            "1563/1563 [==============================] - 5s 3ms/step - loss: 23.8078 - accuracy: 0.1005 - val_loss: 33.5261 - val_accuracy: 0.1000\n",
            "Epoch 21/50\n",
            "1563/1563 [==============================] - 5s 3ms/step - loss: 24.5431 - accuracy: 0.0991 - val_loss: 14.0109 - val_accuracy: 0.1000\n",
            "Epoch 22/50\n",
            "1563/1563 [==============================] - 5s 3ms/step - loss: 22.1464 - accuracy: 0.1001 - val_loss: 14.9021 - val_accuracy: 0.1000\n",
            "Epoch 23/50\n",
            "1563/1563 [==============================] - 5s 3ms/step - loss: 22.8024 - accuracy: 0.0993 - val_loss: 34.4317 - val_accuracy: 0.1000\n",
            "Epoch 24/50\n",
            "1563/1563 [==============================] - 5s 3ms/step - loss: 25.0824 - accuracy: 0.1007 - val_loss: 25.1258 - val_accuracy: 0.1000\n",
            "Epoch 25/50\n",
            "1563/1563 [==============================] - 5s 3ms/step - loss: 23.6910 - accuracy: 0.1029 - val_loss: 35.8459 - val_accuracy: 0.1000\n",
            "Epoch 26/50\n",
            "1563/1563 [==============================] - 5s 3ms/step - loss: 24.2553 - accuracy: 0.0970 - val_loss: 25.6365 - val_accuracy: 0.1000\n",
            "Epoch 27/50\n",
            "1563/1563 [==============================] - 5s 3ms/step - loss: 22.2071 - accuracy: 0.1016 - val_loss: 20.2567 - val_accuracy: 0.1000\n",
            "Epoch 28/50\n",
            "1563/1563 [==============================] - 5s 3ms/step - loss: 23.1457 - accuracy: 0.1005 - val_loss: 17.6913 - val_accuracy: 0.1000\n",
            "Epoch 29/50\n",
            "1563/1563 [==============================] - 5s 3ms/step - loss: 23.4409 - accuracy: 0.0985 - val_loss: 23.0981 - val_accuracy: 0.1000\n",
            "Epoch 30/50\n",
            "1563/1563 [==============================] - 5s 3ms/step - loss: 23.3648 - accuracy: 0.1015 - val_loss: 24.5844 - val_accuracy: 0.1000\n",
            "Epoch 31/50\n",
            "1563/1563 [==============================] - 5s 3ms/step - loss: 23.2997 - accuracy: 0.1010 - val_loss: 14.1461 - val_accuracy: 0.1000\n",
            "Epoch 32/50\n",
            "1563/1563 [==============================] - 5s 3ms/step - loss: 23.9127 - accuracy: 0.1009 - val_loss: 38.2242 - val_accuracy: 0.1000\n",
            "Epoch 33/50\n",
            "1563/1563 [==============================] - 5s 3ms/step - loss: 22.8417 - accuracy: 0.0994 - val_loss: 33.8812 - val_accuracy: 0.1000\n",
            "Epoch 34/50\n",
            "1563/1563 [==============================] - 5s 3ms/step - loss: 22.6536 - accuracy: 0.1017 - val_loss: 21.5950 - val_accuracy: 0.1000\n",
            "Epoch 35/50\n",
            "1563/1563 [==============================] - 5s 3ms/step - loss: 22.7610 - accuracy: 0.1005 - val_loss: 12.1478 - val_accuracy: 0.1000\n",
            "Epoch 36/50\n",
            "1563/1563 [==============================] - 5s 3ms/step - loss: 23.4054 - accuracy: 0.1003 - val_loss: 21.7675 - val_accuracy: 0.1000\n",
            "Epoch 37/50\n",
            "1563/1563 [==============================] - 5s 3ms/step - loss: 23.5984 - accuracy: 0.1001 - val_loss: 25.4416 - val_accuracy: 0.1000\n",
            "Epoch 38/50\n",
            "1563/1563 [==============================] - 5s 3ms/step - loss: 23.2121 - accuracy: 0.1014 - val_loss: 22.9158 - val_accuracy: 0.1000\n",
            "Epoch 39/50\n",
            "1563/1563 [==============================] - 5s 3ms/step - loss: 22.4769 - accuracy: 0.0976 - val_loss: 17.3989 - val_accuracy: 0.1000\n",
            "Epoch 40/50\n",
            "1563/1563 [==============================] - 5s 3ms/step - loss: 24.4916 - accuracy: 0.0979 - val_loss: 22.6229 - val_accuracy: 0.1000\n",
            "Epoch 41/50\n",
            "1563/1563 [==============================] - 5s 3ms/step - loss: 23.0138 - accuracy: 0.1014 - val_loss: 37.2994 - val_accuracy: 0.1000\n",
            "Epoch 42/50\n",
            "1563/1563 [==============================] - 5s 3ms/step - loss: 22.4908 - accuracy: 0.1013 - val_loss: 24.5160 - val_accuracy: 0.1000\n",
            "Epoch 43/50\n",
            "1563/1563 [==============================] - 5s 3ms/step - loss: 23.3264 - accuracy: 0.1007 - val_loss: 32.0606 - val_accuracy: 0.1000\n",
            "Epoch 44/50\n",
            "1563/1563 [==============================] - 5s 3ms/step - loss: 23.3872 - accuracy: 0.0987 - val_loss: 17.6793 - val_accuracy: 0.1000\n",
            "Epoch 45/50\n",
            "1563/1563 [==============================] - 5s 3ms/step - loss: 23.3435 - accuracy: 0.0991 - val_loss: 16.3488 - val_accuracy: 0.1000\n",
            "Epoch 46/50\n",
            "1563/1563 [==============================] - 5s 3ms/step - loss: 23.9635 - accuracy: 0.0993 - val_loss: 11.9505 - val_accuracy: 0.1000\n",
            "Epoch 47/50\n",
            "1563/1563 [==============================] - 5s 3ms/step - loss: 23.0044 - accuracy: 0.1024 - val_loss: 14.8503 - val_accuracy: 0.1000\n",
            "Epoch 48/50\n",
            "1563/1563 [==============================] - 5s 3ms/step - loss: 23.0401 - accuracy: 0.1008 - val_loss: 24.3270 - val_accuracy: 0.1000\n",
            "Epoch 49/50\n",
            "1563/1563 [==============================] - 5s 3ms/step - loss: 22.5042 - accuracy: 0.1020 - val_loss: 27.0515 - val_accuracy: 0.1000\n",
            "Epoch 50/50\n",
            "1563/1563 [==============================] - 5s 3ms/step - loss: 23.1504 - accuracy: 0.1007 - val_loss: 21.0047 - val_accuracy: 0.1000\n",
            "313/313 [==============================] - 1s 2ms/step - loss: 21.0047 - accuracy: 0.1000\n"
          ],
          "name": "stdout"
        }
      ]
    },
    {
      "cell_type": "code",
      "metadata": {
        "colab": {
          "base_uri": "https://localhost:8080/"
        },
        "id": "g39dl7Wk7I0e",
        "outputId": "1498f004-6113-450a-dd9a-c0a8d491050d"
      },
      "source": [
        "print(Model_names)"
      ],
      "execution_count": null,
      "outputs": [
        {
          "output_type": "stream",
          "text": [
            "['NetA', 'NetB', 'NetC']\n"
          ],
          "name": "stdout"
        }
      ]
    },
    {
      "cell_type": "code",
      "metadata": {
        "id": "pIEpBCbALCa5"
      },
      "source": [
        "def plot_curves(histories,Test_accuracies,model_names):\n",
        "  #history = model.history\n",
        "  \n",
        "  for (index,model_history,model_name,Test_accuracies) in zip(range(3),histories,model_names,Test_accuracies):\n",
        "    print(\"model {0} has {1} Training accuracy and {2} Test accuracy\".format(model_names[index],model_history.history['accuracy'][-1],Test_accuracies[1]))\n",
        "    plt.subplots()\n",
        "    plt.plot(model_history.history['accuracy'])\n",
        "    plt.plot(model_history.history['val_accuracy'])\n",
        "    plt.title('model accuracy of {0}'.format(model_name))\n",
        "    plt.ylabel('accuracy')\n",
        "    plt.xlabel('epoch')\n",
        "    plt.legend(['train', 'test'], loc='upper left')\n",
        "  \n",
        "  "
      ],
      "execution_count": null,
      "outputs": []
    },
    {
      "cell_type": "code",
      "metadata": {
        "colab": {
          "base_uri": "https://localhost:8080/",
          "height": 905
        },
        "id": "YIs0eMScoy9W",
        "outputId": "a238482e-d5c8-4fda-df7a-549ae362ece0"
      },
      "source": [
        "train_and_plot(model_histories,Test_accuracies,Model_names)"
      ],
      "execution_count": null,
      "outputs": [
        {
          "output_type": "stream",
          "text": [
            "model NetA has 0.3043600022792816 Training accuracy and 0.2897999882698059 Test accuracy\n",
            "model NetB has 0.10180000215768814 Training accuracy and 0.10000000149011612 Test accuracy\n",
            "model NetC has 0.10072000324726105 Training accuracy and 0.10000000149011612 Test accuracy\n"
          ],
          "name": "stdout"
        },
        {
          "output_type": "display_data",
          "data": {
            "image/png": "[encoded data removed]",
            "text/plain": [
              "<Figure size 432x288 with 1 Axes>"
            ]
          },
          "metadata": {
            "tags": [],
            "needs_background": "light"
          }
        },
        {
          "output_type": "display_data",
          "data": {
            "image/png": "[encoded data removed]",
            "text/plain": [
              "<Figure size 432x288 with 1 Axes>"
            ]
          },
          "metadata": {
            "tags": [],
            "needs_background": "light"
          }
        },
        {
          "output_type": "display_data",
          "data": {
            "image/png": "[encoded data removed]",
            "text/plain": [
              "<Figure size 432x288 with 1 Axes>"
            ]
          },
          "metadata": {
            "tags": [],
            "needs_background": "light"
          }
        }
      ]
    },
    {
      "cell_type": "code",
      "metadata": {
        "colab": {
          "base_uri": "https://localhost:8080/",
          "height": 358
        },
        "id": "x-5OMPEo-4t6",
        "outputId": "94531595-3837-4500-e99c-a46f21dfb85d"
      },
      "source": [
        "Original_image = trainX[5]."
      ],
      "execution_count": null,
      "outputs": [
        {
          "output_type": "error",
          "ename": "ValueError",
          "evalue": "ignored",
          "traceback": [
            "\u001b[0;31m---------------------------------------------------------------------------\u001b[0m",
            "\u001b[0;31mValueError\u001b[0m                                Traceback (most recent call last)",
            "\u001b[0;32m<ipython-input-102-875e38ec3a5c>\u001b[0m in \u001b[0;36m<module>\u001b[0;34m()\u001b[0m\n\u001b[1;32m      1\u001b[0m \u001b[0mOriginal_image\u001b[0m \u001b[0;34m=\u001b[0m \u001b[0mnp\u001b[0m\u001b[0;34m.\u001b[0m\u001b[0marray\u001b[0m\u001b[0;34m(\u001b[0m\u001b[0mtrainX\u001b[0m\u001b[0;34m[\u001b[0m\u001b[0;36m3\u001b[0m\u001b[0;34m]\u001b[0m\u001b[0;34m)\u001b[0m\u001b[0;34m\u001b[0m\u001b[0;34m\u001b[0m\u001b[0m\n\u001b[0;32m----> 2\u001b[0;31m \u001b[0mplt\u001b[0m\u001b[0;34m.\u001b[0m\u001b[0mshow\u001b[0m\u001b[0;34m(\u001b[0m\u001b[0mOriginal_image\u001b[0m\u001b[0;34m)\u001b[0m\u001b[0;34m\u001b[0m\u001b[0;34m\u001b[0m\u001b[0m\n\u001b[0m\u001b[1;32m      3\u001b[0m \u001b[0mNetA\u001b[0m\u001b[0;34m.\u001b[0m\u001b[0mpredict\u001b[0m\u001b[0;34m\u001b[0m\u001b[0;34m\u001b[0m\u001b[0m\n",
            "\u001b[0;32m/usr/local/lib/python3.7/dist-packages/matplotlib/pyplot.py\u001b[0m in \u001b[0;36mshow\u001b[0;34m(*args, **kw)\u001b[0m\n\u001b[1;32m    270\u001b[0m     \"\"\"\n\u001b[1;32m    271\u001b[0m     \u001b[0;32mglobal\u001b[0m \u001b[0m_show\u001b[0m\u001b[0;34m\u001b[0m\u001b[0;34m\u001b[0m\u001b[0m\n\u001b[0;32m--> 272\u001b[0;31m     \u001b[0;32mreturn\u001b[0m \u001b[0m_show\u001b[0m\u001b[0;34m(\u001b[0m\u001b[0;34m*\u001b[0m\u001b[0margs\u001b[0m\u001b[0;34m,\u001b[0m \u001b[0;34m**\u001b[0m\u001b[0mkw\u001b[0m\u001b[0;34m)\u001b[0m\u001b[0;34m\u001b[0m\u001b[0;34m\u001b[0m\u001b[0m\n\u001b[0m\u001b[1;32m    273\u001b[0m \u001b[0;34m\u001b[0m\u001b[0m\n\u001b[1;32m    274\u001b[0m \u001b[0;34m\u001b[0m\u001b[0m\n",
            "\u001b[0;32m/usr/local/lib/python3.7/dist-packages/ipykernel/pylab/backend_inline.py\u001b[0m in \u001b[0;36mshow\u001b[0;34m(close, block)\u001b[0m\n\u001b[1;32m     43\u001b[0m         \u001b[0;31m# only call close('all') if any to close\u001b[0m\u001b[0;34m\u001b[0m\u001b[0;34m\u001b[0m\u001b[0;34m\u001b[0m\u001b[0m\n\u001b[1;32m     44\u001b[0m         \u001b[0;31m# close triggers gc.collect, which can be slow\u001b[0m\u001b[0;34m\u001b[0m\u001b[0;34m\u001b[0m\u001b[0;34m\u001b[0m\u001b[0m\n\u001b[0;32m---> 45\u001b[0;31m         \u001b[0;32mif\u001b[0m \u001b[0mclose\u001b[0m \u001b[0;32mand\u001b[0m \u001b[0mGcf\u001b[0m\u001b[0;34m.\u001b[0m\u001b[0mget_all_fig_managers\u001b[0m\u001b[0;34m(\u001b[0m\u001b[0;34m)\u001b[0m\u001b[0;34m:\u001b[0m\u001b[0;34m\u001b[0m\u001b[0;34m\u001b[0m\u001b[0m\n\u001b[0m\u001b[1;32m     46\u001b[0m             \u001b[0mmatplotlib\u001b[0m\u001b[0;34m.\u001b[0m\u001b[0mpyplot\u001b[0m\u001b[0;34m.\u001b[0m\u001b[0mclose\u001b[0m\u001b[0;34m(\u001b[0m\u001b[0;34m'all'\u001b[0m\u001b[0;34m)\u001b[0m\u001b[0;34m\u001b[0m\u001b[0;34m\u001b[0m\u001b[0m\n\u001b[1;32m     47\u001b[0m \u001b[0;34m\u001b[0m\u001b[0m\n",
            "\u001b[0;31mValueError\u001b[0m: The truth value of an array with more than one element is ambiguous. Use a.any() or a.all()"
          ]
        }
      ]
    },
    {
      "cell_type": "code",
      "metadata": {
        "id": "ELGRrd8H_EyR"
      },
      "source": [
        ""
      ],
      "execution_count": null,
      "outputs": []
    }
  ]
}