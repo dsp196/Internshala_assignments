{
  "nbformat": 4,
  "nbformat_minor": 0,
  "metadata": {
    "colab": {
      "name": "Assignment.ipynb",
      "provenance": [],
      "collapsed_sections": [],
      "authorship_tag": "ABX9TyNJfM8fJgIKqGL2i8s/kQrF",
      "include_colab_link": true
    },
    "kernelspec": {
      "name": "python3",
      "display_name": "Python 3"
    },
    "language_info": {
      "name": "python"
    },
    "accelerator": "GPU"
  },
  "cells": [
    {
      "cell_type": "markdown",
      "metadata": {
        "id": "view-in-github",
        "colab_type": "text"
      },
      "source": [
        "<a href=\"https://colab.research.google.com/github/dsp196/Internshala_assignments/blob/main/Assignment.ipynb\" target=\"_parent\"><img src=\"https://colab.research.google.com/assets/colab-badge.svg\" alt=\"Open In Colab\"/></a>"
      ]
    },
    {
      "cell_type": "code",
      "metadata": {
        "id": "5vvgvY_RYUOw"
      },
      "source": [
        "#Importing required libraries \n",
        "import tensorflow as tf\n",
        "import tensorflow.keras as keras\n",
        "from tensorflow.keras import datasets, layers, models\n",
        "import matplotlib.pyplot as plt\n",
        "import numpy as np\n",
        "\n",
        "from keras.datasets import cifar10"
      ],
      "execution_count": 1,
      "outputs": []
    },
    {
      "cell_type": "code",
      "metadata": {
        "colab": {
          "base_uri": "https://localhost:8080/"
        },
        "id": "xeaHrPutZawm",
        "outputId": "c5b5eff9-eb41-4fa6-d5b9-270aed4740a0"
      },
      "source": [
        "(trainX, trainy), (testX, testy) = cifar10.load_data() #Train loader and Test loader \n",
        "print('Train: X=%s, y=%s' % (trainX.shape, trainy.shape))\n",
        "print('Test: X=%s, y=%s' % (testX.shape, testy.shape)) \n",
        "#Normalizing Training Data\n",
        "train_norm_x = trainX/255.0\n",
        "test_norm_x =testX/255.0"
      ],
      "execution_count": 2,
      "outputs": [
        {
          "output_type": "stream",
          "text": [
            "Downloading data from https://www.cs.toronto.edu/~kriz/cifar-10-python.tar.gz\n",
            "170500096/170498071 [==============================] - 4s 0us/step\n",
            "170508288/170498071 [==============================] - 4s 0us/step\n",
            "Train: X=(50000, 32, 32, 3), y=(50000, 1)\n",
            "Test: X=(10000, 32, 32, 3), y=(10000, 1)\n"
          ],
          "name": "stdout"
        }
      ]
    },
    {
      "cell_type": "code",
      "metadata": {
        "id": "xLZkzI-QdpjR"
      },
      "source": [
        "#HyperParameters for training\n",
        "LEARNING_RATE =0.001\n",
        "EPOCHS=50"
      ],
      "execution_count": 3,
      "outputs": []
    },
    {
      "cell_type": "code",
      "metadata": {
        "id": "FNZXzlR2iuG3"
      },
      "source": [
        "class ModelA(): ##Model NetA\n",
        "    \n",
        "  def create_model_NetA(self):\n",
        "    NnetA = tf.keras.Sequential(name=\"NetA\")\n",
        "    NnetA.add(layers.Flatten(input_shape = (32,32,3) )) # Image Flattening  to a single vector \n",
        "    NnetA.add(layers.Dense(10,activation='linear')) #Output layer\n",
        "    return NnetA\n",
        "  \n",
        "\n"
      ],
      "execution_count": 6,
      "outputs": []
    },
    {
      "cell_type": "code",
      "metadata": {
        "id": "ekUUOcq2p_2X"
      },
      "source": [
        "class ModelB(): ##Model NetB\n",
        "  def create_model_NetB(self):\n",
        "    NnetB = tf.keras.Sequential(name=\"NetB\")\n",
        "    NnetB.add(layers.Flatten(input_shape = (32,32,3) ))  # Image Flattening  to a single vector\n",
        "    NnetB.add(layers.Dense(300,activation='relu')) #Hidden layer with 300 units\n",
        "    NnetB.add(layers.Dense(10)) #OutPut Layer\n",
        "    return NnetB\n",
        "    "
      ],
      "execution_count": 7,
      "outputs": []
    },
    {
      "cell_type": "code",
      "metadata": {
        "id": "CMX7P91hv0no"
      },
      "source": [
        "class ModelC():\n",
        "  def create_model_NetC(self):\n",
        "    NnetC = tf.keras.Sequential(name=\"NetC\")\n",
        "    NnetC.add(layers.Conv2D(25,(5,5),activation='relu',input_shape=(32,32,3))) #Convolutional Layer - 25 filters each with (5,5)  \n",
        "    NnetC.add(layers.MaxPooling2D((2, 2),strides=(2, 2))) ##Maxpooling layer of (2,2) size with stride (2,2)\n",
        "    NnetC.add(layers.Flatten()) # Image Flattening layer\n",
        "    NnetC.add(layers.Dense(10)) #Output Layer\n",
        "    return NnetC"
      ],
      "execution_count": 8,
      "outputs": []
    },
    {
      "cell_type": "code",
      "metadata": {
        "id": "yDdaBMzhGIjP"
      },
      "source": [
        "modelA = ModelA()\n",
        "NetA =modelA.create_model_NetA()"
      ],
      "execution_count": 9,
      "outputs": []
    },
    {
      "cell_type": "code",
      "metadata": {
        "id": "6i0ydUU6sme3"
      },
      "source": [
        "modelB = ModelB()\n",
        "NetB = modelB.create_model_NetB()"
      ],
      "execution_count": 11,
      "outputs": []
    },
    {
      "cell_type": "code",
      "metadata": {
        "id": "uKIB1WyVvygp"
      },
      "source": [
        "modelC = ModelC()\n",
        "NetC = modelC.create_model_NetC()"
      ],
      "execution_count": 10,
      "outputs": []
    },
    {
      "cell_type": "code",
      "metadata": {
        "id": "_NCBczrBhAHz"
      },
      "source": [
        "model_list =[NetA,NetB,NetC]"
      ],
      "execution_count": 12,
      "outputs": []
    },
    {
      "cell_type": "code",
      "metadata": {
        "id": "JO_-oy2ehjGy"
      },
      "source": [
        "def compile_train_model(models,x_train, y_train,\n",
        "                        learning_rate=LEARNING_RATE,epochs=EPOCHS):\n",
        "  histories=[] #for recording model metrics\n",
        "  Test_acc =[] # for recording model test accuracy\n",
        "  model_names = [] #List of model names \n",
        "  \n",
        "  \"\"\"\n",
        "  Compiles and trains the Keras models with the given data. \n",
        "  Used  Adam optimizer for this implementation.\n",
        "  \n",
        "  learning_rate: Learning rate for the optimizer Adam\n",
        "  epochs: Number of epochs to train\n",
        "  \"\"\"\n",
        "  for model in models:\n",
        "    model_copy = model\n",
        "    model_copy.compile(optimizer=tf.keras.optimizers.Adam(lr=learning_rate),\n",
        "              loss=tf.keras.losses.SparseCategoricalCrossentropy(from_logits=True),\n",
        "              metrics=['accuracy'])\n",
        "    print(model.summary())\n",
        "    history = model_copy.fit(train_norm_x,trainy,epochs=EPOCHS,validation_data=(test_norm_x, testy)) #Training Model\n",
        "    test_accuracy = model.evaluate(test_norm_x,testy,verbose=1) ## Evaluating trained Model\n",
        "    histories.append(history)\n",
        "    Test_acc.append(test_accuracy)\n",
        "    model_names.append(model_copy.name)\n",
        "  return histories,Test_acc,model_names"
      ],
      "execution_count": 13,
      "outputs": []
    },
    {
      "cell_type": "code",
      "metadata": {
        "colab": {
          "base_uri": "https://localhost:8080/"
        },
        "id": "CMZHan-ckTBE",
        "outputId": "05411c0c-6f23-4dfc-bfc1-beabf550f716"
      },
      "source": [
        "model_histories,Test_accuracies,Model_names = compile_train_model(model_list,train_norm_x,trainy,EPOCHS,LEARNING_RATE)"
      ],
      "execution_count": 14,
      "outputs": [
        {
          "output_type": "stream",
          "text": [
            "/usr/local/lib/python3.7/dist-packages/tensorflow/python/keras/optimizer_v2/optimizer_v2.py:375: UserWarning: The `lr` argument is deprecated, use `learning_rate` instead.\n",
            "  \"The `lr` argument is deprecated, use `learning_rate` instead.\")\n"
          ],
          "name": "stderr"
        },
        {
          "output_type": "stream",
          "text": [
            "Model: \"NetA\"\n",
            "_________________________________________________________________\n",
            "Layer (type)                 Output Shape              Param #   \n",
            "=================================================================\n",
            "flatten (Flatten)            (None, 3072)              0         \n",
            "_________________________________________________________________\n",
            "dense (Dense)                (None, 10)                30730     \n",
            "=================================================================\n",
            "Total params: 30,730\n",
            "Trainable params: 30,730\n",
            "Non-trainable params: 0\n",
            "_________________________________________________________________\n",
            "None\n",
            "Epoch 1/50\n",
            "1563/1563 [==============================] - 7s 2ms/step - loss: 18276.9512 - accuracy: 0.2369 - val_loss: 15277.5283 - val_accuracy: 0.2578\n",
            "Epoch 2/50\n",
            "1563/1563 [==============================] - 3s 2ms/step - loss: 16583.3887 - accuracy: 0.2568 - val_loss: 17580.9238 - val_accuracy: 0.2357\n",
            "Epoch 3/50\n",
            "1563/1563 [==============================] - 3s 2ms/step - loss: 15849.7354 - accuracy: 0.2687 - val_loss: 20506.8027 - val_accuracy: 0.1984\n",
            "Epoch 4/50\n",
            "1563/1563 [==============================] - 4s 2ms/step - loss: 15985.0547 - accuracy: 0.2714 - val_loss: 28548.7676 - val_accuracy: 0.1606\n",
            "Epoch 5/50\n",
            "1563/1563 [==============================] - 3s 2ms/step - loss: 16779.3340 - accuracy: 0.2746 - val_loss: 16189.0557 - val_accuracy: 0.2531\n",
            "Epoch 6/50\n",
            "1563/1563 [==============================] - 3s 2ms/step - loss: 16563.1660 - accuracy: 0.2770 - val_loss: 15842.3057 - val_accuracy: 0.2514\n",
            "Epoch 7/50\n",
            "1563/1563 [==============================] - 3s 2ms/step - loss: 15953.3389 - accuracy: 0.2844 - val_loss: 13762.6260 - val_accuracy: 0.3143\n",
            "Epoch 8/50\n",
            "1563/1563 [==============================] - 4s 2ms/step - loss: 16173.1035 - accuracy: 0.2846 - val_loss: 35202.2305 - val_accuracy: 0.1671\n",
            "Epoch 9/50\n",
            "1563/1563 [==============================] - 4s 2ms/step - loss: 16151.1182 - accuracy: 0.2848 - val_loss: 17812.3574 - val_accuracy: 0.2709\n",
            "Epoch 10/50\n",
            "1563/1563 [==============================] - 4s 2ms/step - loss: 16908.1680 - accuracy: 0.2813 - val_loss: 12676.3574 - val_accuracy: 0.2966\n",
            "Epoch 11/50\n",
            "1563/1563 [==============================] - 3s 2ms/step - loss: 16268.0986 - accuracy: 0.2866 - val_loss: 19787.1113 - val_accuracy: 0.2227\n",
            "Epoch 12/50\n",
            "1563/1563 [==============================] - 4s 2ms/step - loss: 16330.5254 - accuracy: 0.2868 - val_loss: 25088.6582 - val_accuracy: 0.2498\n",
            "Epoch 13/50\n",
            "1563/1563 [==============================] - 4s 2ms/step - loss: 15670.1924 - accuracy: 0.2909 - val_loss: 13113.9668 - val_accuracy: 0.2667\n",
            "Epoch 14/50\n",
            "1563/1563 [==============================] - 4s 2ms/step - loss: 16699.4453 - accuracy: 0.2876 - val_loss: 20039.2676 - val_accuracy: 0.2234\n",
            "Epoch 15/50\n",
            "1563/1563 [==============================] - 4s 2ms/step - loss: 15615.9473 - accuracy: 0.2928 - val_loss: 15675.0420 - val_accuracy: 0.2753\n",
            "Epoch 16/50\n",
            "1563/1563 [==============================] - 4s 2ms/step - loss: 15864.3164 - accuracy: 0.2883 - val_loss: 12648.3242 - val_accuracy: 0.2857\n",
            "Epoch 17/50\n",
            "1563/1563 [==============================] - 4s 2ms/step - loss: 16524.8516 - accuracy: 0.2861 - val_loss: 14896.3252 - val_accuracy: 0.2668\n",
            "Epoch 18/50\n",
            "1563/1563 [==============================] - 4s 2ms/step - loss: 16233.3066 - accuracy: 0.2935 - val_loss: 15976.9971 - val_accuracy: 0.2713\n",
            "Epoch 19/50\n",
            "1563/1563 [==============================] - 4s 2ms/step - loss: 16384.3613 - accuracy: 0.2938 - val_loss: 15104.6396 - val_accuracy: 0.2814\n",
            "Epoch 20/50\n",
            "1563/1563 [==============================] - 3s 2ms/step - loss: 15675.2881 - accuracy: 0.2967 - val_loss: 22416.7207 - val_accuracy: 0.1995\n",
            "Epoch 21/50\n",
            "1563/1563 [==============================] - 4s 2ms/step - loss: 16286.7139 - accuracy: 0.2935 - val_loss: 26185.1230 - val_accuracy: 0.2039\n",
            "Epoch 22/50\n",
            "1563/1563 [==============================] - 4s 2ms/step - loss: 16703.7793 - accuracy: 0.2944 - val_loss: 15975.6338 - val_accuracy: 0.3095\n",
            "Epoch 23/50\n",
            "1563/1563 [==============================] - 4s 2ms/step - loss: 16205.6533 - accuracy: 0.2952 - val_loss: 23750.6484 - val_accuracy: 0.2692\n",
            "Epoch 24/50\n",
            "1563/1563 [==============================] - 4s 2ms/step - loss: 16708.2246 - accuracy: 0.2974 - val_loss: 14808.0596 - val_accuracy: 0.2656\n",
            "Epoch 25/50\n",
            "1563/1563 [==============================] - 4s 2ms/step - loss: 16213.4209 - accuracy: 0.2984 - val_loss: 22048.4258 - val_accuracy: 0.2527\n",
            "Epoch 26/50\n",
            "1563/1563 [==============================] - 3s 2ms/step - loss: 16021.6035 - accuracy: 0.2989 - val_loss: 21098.2598 - val_accuracy: 0.2474\n",
            "Epoch 27/50\n",
            "1563/1563 [==============================] - 4s 2ms/step - loss: 15396.2109 - accuracy: 0.2980 - val_loss: 16791.8008 - val_accuracy: 0.2732\n",
            "Epoch 28/50\n",
            "1563/1563 [==============================] - 4s 2ms/step - loss: 16123.4658 - accuracy: 0.2971 - val_loss: 14087.4785 - val_accuracy: 0.2927\n",
            "Epoch 29/50\n",
            "1563/1563 [==============================] - 4s 2ms/step - loss: 15945.1738 - accuracy: 0.2964 - val_loss: 14726.1982 - val_accuracy: 0.2833\n",
            "Epoch 30/50\n",
            "1563/1563 [==============================] - 4s 2ms/step - loss: 15592.5430 - accuracy: 0.3014 - val_loss: 10236.5938 - val_accuracy: 0.3064\n",
            "Epoch 31/50\n",
            "1563/1563 [==============================] - 4s 2ms/step - loss: 15757.6426 - accuracy: 0.3001 - val_loss: 22591.5078 - val_accuracy: 0.2688\n",
            "Epoch 32/50\n",
            "1563/1563 [==============================] - 4s 2ms/step - loss: 16049.6777 - accuracy: 0.2987 - val_loss: 22309.0332 - val_accuracy: 0.2326\n",
            "Epoch 33/50\n",
            "1563/1563 [==============================] - 4s 2ms/step - loss: 16066.9980 - accuracy: 0.2977 - val_loss: 20343.7480 - val_accuracy: 0.2702\n",
            "Epoch 34/50\n",
            "1563/1563 [==============================] - 4s 2ms/step - loss: 16116.3623 - accuracy: 0.2999 - val_loss: 14230.6768 - val_accuracy: 0.2882\n",
            "Epoch 35/50\n",
            "1563/1563 [==============================] - 4s 3ms/step - loss: 16421.0566 - accuracy: 0.2996 - val_loss: 11557.9268 - val_accuracy: 0.3305\n",
            "Epoch 36/50\n",
            "1563/1563 [==============================] - 4s 2ms/step - loss: 15695.9014 - accuracy: 0.3014 - val_loss: 15798.1123 - val_accuracy: 0.2767\n",
            "Epoch 37/50\n",
            "1563/1563 [==============================] - 3s 2ms/step - loss: 15747.6045 - accuracy: 0.3011 - val_loss: 24481.1406 - val_accuracy: 0.2164\n",
            "Epoch 38/50\n",
            "1563/1563 [==============================] - 4s 2ms/step - loss: 16286.6904 - accuracy: 0.2999 - val_loss: 10721.7197 - val_accuracy: 0.3351\n",
            "Epoch 39/50\n",
            "1563/1563 [==============================] - 4s 2ms/step - loss: 16054.8145 - accuracy: 0.3042 - val_loss: 16271.0000 - val_accuracy: 0.2772\n",
            "Epoch 40/50\n",
            "1563/1563 [==============================] - 4s 2ms/step - loss: 15778.2705 - accuracy: 0.3041 - val_loss: 16715.4062 - val_accuracy: 0.2463\n",
            "Epoch 41/50\n",
            "1563/1563 [==============================] - 3s 2ms/step - loss: 16111.2207 - accuracy: 0.3028 - val_loss: 11875.2617 - val_accuracy: 0.3249\n",
            "Epoch 42/50\n",
            "1563/1563 [==============================] - 4s 2ms/step - loss: 16074.9756 - accuracy: 0.3010 - val_loss: 17983.5508 - val_accuracy: 0.2386\n",
            "Epoch 43/50\n",
            "1563/1563 [==============================] - 3s 2ms/step - loss: 15992.6182 - accuracy: 0.3024 - val_loss: 15567.6641 - val_accuracy: 0.2442\n",
            "Epoch 44/50\n",
            "1563/1563 [==============================] - 3s 2ms/step - loss: 15728.7373 - accuracy: 0.3033 - val_loss: 20049.7129 - val_accuracy: 0.2848\n",
            "Epoch 45/50\n",
            "1563/1563 [==============================] - 4s 2ms/step - loss: 15444.6934 - accuracy: 0.3040 - val_loss: 10763.1562 - val_accuracy: 0.3136\n",
            "Epoch 46/50\n",
            "1563/1563 [==============================] - 3s 2ms/step - loss: 15992.9648 - accuracy: 0.3043 - val_loss: 14643.9072 - val_accuracy: 0.2808\n",
            "Epoch 47/50\n",
            "1563/1563 [==============================] - 3s 2ms/step - loss: 15892.1992 - accuracy: 0.3017 - val_loss: 11136.2627 - val_accuracy: 0.3261\n",
            "Epoch 48/50\n",
            "1563/1563 [==============================] - 4s 2ms/step - loss: 16231.7852 - accuracy: 0.3028 - val_loss: 15345.3232 - val_accuracy: 0.2565\n",
            "Epoch 49/50\n",
            "1563/1563 [==============================] - 4s 3ms/step - loss: 15670.5527 - accuracy: 0.3068 - val_loss: 24422.5664 - val_accuracy: 0.1780\n",
            "Epoch 50/50\n",
            "1563/1563 [==============================] - 4s 2ms/step - loss: 16116.2090 - accuracy: 0.3042 - val_loss: 14203.9326 - val_accuracy: 0.2679\n",
            "313/313 [==============================] - 1s 2ms/step - loss: 14203.9326 - accuracy: 0.2679\n",
            "Model: \"NetB\"\n",
            "_________________________________________________________________\n",
            "Layer (type)                 Output Shape              Param #   \n",
            "=================================================================\n",
            "flatten_2 (Flatten)          (None, 3072)              0         \n",
            "_________________________________________________________________\n",
            "dense_2 (Dense)              (None, 300)               921900    \n",
            "_________________________________________________________________\n",
            "dense_3 (Dense)              (None, 10)                3010      \n",
            "=================================================================\n",
            "Total params: 924,910\n",
            "Trainable params: 924,910\n",
            "Non-trainable params: 0\n",
            "_________________________________________________________________\n",
            "None\n",
            "Epoch 1/50\n",
            "1563/1563 [==============================] - 5s 3ms/step - loss: 599520.3125 - accuracy: 0.0991 - val_loss: 27.0267 - val_accuracy: 0.1000\n",
            "Epoch 2/50\n",
            "1563/1563 [==============================] - 4s 3ms/step - loss: 22.7779 - accuracy: 0.1007 - val_loss: 20.3666 - val_accuracy: 0.1000\n",
            "Epoch 3/50\n",
            "1563/1563 [==============================] - 4s 3ms/step - loss: 23.2546 - accuracy: 0.0968 - val_loss: 18.9786 - val_accuracy: 0.1000\n",
            "Epoch 4/50\n",
            "1563/1563 [==============================] - 4s 3ms/step - loss: 22.7383 - accuracy: 0.1018 - val_loss: 20.1139 - val_accuracy: 0.1000\n",
            "Epoch 5/50\n",
            "1563/1563 [==============================] - 4s 3ms/step - loss: 23.3620 - accuracy: 0.1019 - val_loss: 25.4342 - val_accuracy: 0.1000\n",
            "Epoch 6/50\n",
            "1563/1563 [==============================] - 4s 3ms/step - loss: 23.7628 - accuracy: 0.1031 - val_loss: 22.8906 - val_accuracy: 0.1000\n",
            "Epoch 7/50\n",
            "1563/1563 [==============================] - 5s 3ms/step - loss: 22.9797 - accuracy: 0.1001 - val_loss: 23.6343 - val_accuracy: 0.1000\n",
            "Epoch 8/50\n",
            "1563/1563 [==============================] - 4s 3ms/step - loss: 23.2028 - accuracy: 0.1024 - val_loss: 15.1730 - val_accuracy: 0.1000\n",
            "Epoch 9/50\n",
            "1563/1563 [==============================] - 4s 3ms/step - loss: 23.9013 - accuracy: 0.0995 - val_loss: 37.2573 - val_accuracy: 0.1000\n",
            "Epoch 10/50\n",
            "1563/1563 [==============================] - 4s 3ms/step - loss: 23.7608 - accuracy: 0.1015 - val_loss: 32.4424 - val_accuracy: 0.1000\n",
            "Epoch 11/50\n",
            "1563/1563 [==============================] - 4s 3ms/step - loss: 22.7881 - accuracy: 0.1000 - val_loss: 40.8943 - val_accuracy: 0.1000\n",
            "Epoch 12/50\n",
            "1563/1563 [==============================] - 4s 3ms/step - loss: 23.1833 - accuracy: 0.1035 - val_loss: 30.8555 - val_accuracy: 0.1000\n",
            "Epoch 13/50\n",
            "1563/1563 [==============================] - 4s 3ms/step - loss: 23.7175 - accuracy: 0.1015 - val_loss: 21.9131 - val_accuracy: 0.1000\n",
            "Epoch 14/50\n",
            "1563/1563 [==============================] - 4s 3ms/step - loss: 23.5189 - accuracy: 0.1013 - val_loss: 31.2106 - val_accuracy: 0.1000\n",
            "Epoch 15/50\n",
            "1563/1563 [==============================] - 4s 3ms/step - loss: 23.3307 - accuracy: 0.1002 - val_loss: 17.5978 - val_accuracy: 0.1000\n",
            "Epoch 16/50\n",
            "1563/1563 [==============================] - 4s 3ms/step - loss: 23.7113 - accuracy: 0.0991 - val_loss: 24.7436 - val_accuracy: 0.1000\n",
            "Epoch 17/50\n",
            "1563/1563 [==============================] - 4s 3ms/step - loss: 22.7493 - accuracy: 0.1011 - val_loss: 9.2450 - val_accuracy: 0.1000\n",
            "Epoch 18/50\n",
            "1563/1563 [==============================] - 5s 3ms/step - loss: 23.1281 - accuracy: 0.0987 - val_loss: 20.3253 - val_accuracy: 0.1000\n",
            "Epoch 19/50\n",
            "1563/1563 [==============================] - 4s 3ms/step - loss: 22.9091 - accuracy: 0.1025 - val_loss: 26.6643 - val_accuracy: 0.1000\n",
            "Epoch 20/50\n",
            "1563/1563 [==============================] - 4s 3ms/step - loss: 23.6054 - accuracy: 0.0990 - val_loss: 23.5358 - val_accuracy: 0.1000\n",
            "Epoch 21/50\n",
            "1563/1563 [==============================] - 5s 3ms/step - loss: 21.9190 - accuracy: 0.1007 - val_loss: 20.7360 - val_accuracy: 0.1000\n",
            "Epoch 22/50\n",
            "1563/1563 [==============================] - 4s 3ms/step - loss: 23.3514 - accuracy: 0.0989 - val_loss: 23.3416 - val_accuracy: 0.1000\n",
            "Epoch 23/50\n",
            "1563/1563 [==============================] - 4s 3ms/step - loss: 22.6681 - accuracy: 0.1021 - val_loss: 21.4584 - val_accuracy: 0.1000\n",
            "Epoch 24/50\n",
            "1563/1563 [==============================] - 4s 3ms/step - loss: 23.7348 - accuracy: 0.1023 - val_loss: 28.0685 - val_accuracy: 0.1000\n",
            "Epoch 25/50\n",
            "1563/1563 [==============================] - 4s 3ms/step - loss: 24.1796 - accuracy: 0.1035 - val_loss: 22.5725 - val_accuracy: 0.1000\n",
            "Epoch 26/50\n",
            "1563/1563 [==============================] - 4s 3ms/step - loss: 22.5036 - accuracy: 0.0999 - val_loss: 24.5149 - val_accuracy: 0.1000\n",
            "Epoch 27/50\n",
            "1563/1563 [==============================] - 4s 3ms/step - loss: 23.1603 - accuracy: 0.0991 - val_loss: 23.8958 - val_accuracy: 0.1000\n",
            "Epoch 28/50\n",
            "1563/1563 [==============================] - 4s 3ms/step - loss: 23.7398 - accuracy: 0.1006 - val_loss: 22.9563 - val_accuracy: 0.1000\n",
            "Epoch 29/50\n",
            "1563/1563 [==============================] - 4s 3ms/step - loss: 23.2789 - accuracy: 0.0992 - val_loss: 17.6013 - val_accuracy: 0.1000\n",
            "Epoch 30/50\n",
            "1563/1563 [==============================] - 4s 3ms/step - loss: 24.4266 - accuracy: 0.1000 - val_loss: 13.0874 - val_accuracy: 0.1000\n",
            "Epoch 31/50\n",
            "1563/1563 [==============================] - 4s 3ms/step - loss: 22.3812 - accuracy: 0.0998 - val_loss: 17.2569 - val_accuracy: 0.1000\n",
            "Epoch 32/50\n",
            "1563/1563 [==============================] - 4s 3ms/step - loss: 23.7550 - accuracy: 0.0987 - val_loss: 18.4402 - val_accuracy: 0.1000\n",
            "Epoch 33/50\n",
            "1563/1563 [==============================] - 4s 3ms/step - loss: 22.3512 - accuracy: 0.1003 - val_loss: 29.9387 - val_accuracy: 0.1000\n",
            "Epoch 34/50\n",
            "1563/1563 [==============================] - 4s 3ms/step - loss: 23.2445 - accuracy: 0.1001 - val_loss: 29.2631 - val_accuracy: 0.1000\n",
            "Epoch 35/50\n",
            "1563/1563 [==============================] - 5s 3ms/step - loss: 22.8543 - accuracy: 0.0987 - val_loss: 34.4610 - val_accuracy: 0.1000\n",
            "Epoch 36/50\n",
            "1563/1563 [==============================] - 4s 3ms/step - loss: 23.2470 - accuracy: 0.0998 - val_loss: 16.4288 - val_accuracy: 0.1000\n",
            "Epoch 37/50\n",
            "1563/1563 [==============================] - 4s 3ms/step - loss: 23.0416 - accuracy: 0.1019 - val_loss: 23.5206 - val_accuracy: 0.1000\n",
            "Epoch 38/50\n",
            "1563/1563 [==============================] - 4s 3ms/step - loss: 23.0924 - accuracy: 0.1000 - val_loss: 23.2875 - val_accuracy: 0.1000\n",
            "Epoch 39/50\n",
            "1563/1563 [==============================] - 4s 3ms/step - loss: 23.4230 - accuracy: 0.1009 - val_loss: 18.2275 - val_accuracy: 0.1000\n",
            "Epoch 40/50\n",
            "1563/1563 [==============================] - 4s 3ms/step - loss: 22.7146 - accuracy: 0.0990 - val_loss: 30.0310 - val_accuracy: 0.1000\n",
            "Epoch 41/50\n",
            "1563/1563 [==============================] - 4s 3ms/step - loss: 24.1149 - accuracy: 0.1014 - val_loss: 25.4705 - val_accuracy: 0.1000\n",
            "Epoch 42/50\n",
            "1563/1563 [==============================] - 4s 3ms/step - loss: 21.8175 - accuracy: 0.1013 - val_loss: 26.9921 - val_accuracy: 0.1000\n",
            "Epoch 43/50\n",
            "1563/1563 [==============================] - 4s 3ms/step - loss: 23.2491 - accuracy: 0.0987 - val_loss: 21.5248 - val_accuracy: 0.1000\n",
            "Epoch 44/50\n",
            "1563/1563 [==============================] - 4s 3ms/step - loss: 22.6846 - accuracy: 0.1000 - val_loss: 24.7381 - val_accuracy: 0.1000\n",
            "Epoch 45/50\n",
            "1563/1563 [==============================] - 4s 3ms/step - loss: 23.5102 - accuracy: 0.0995 - val_loss: 38.5394 - val_accuracy: 0.1000\n",
            "Epoch 46/50\n",
            "1563/1563 [==============================] - 4s 3ms/step - loss: 23.1632 - accuracy: 0.0971 - val_loss: 15.9173 - val_accuracy: 0.1000\n",
            "Epoch 47/50\n",
            "1563/1563 [==============================] - 4s 3ms/step - loss: 23.1909 - accuracy: 0.1009 - val_loss: 25.1769 - val_accuracy: 0.1000\n",
            "Epoch 48/50\n",
            "1563/1563 [==============================] - 4s 3ms/step - loss: 22.4308 - accuracy: 0.1001 - val_loss: 32.8554 - val_accuracy: 0.1000\n",
            "Epoch 49/50\n",
            "1563/1563 [==============================] - 5s 3ms/step - loss: 23.2636 - accuracy: 0.1010 - val_loss: 29.3523 - val_accuracy: 0.1000\n",
            "Epoch 50/50\n",
            "1563/1563 [==============================] - 5s 3ms/step - loss: 22.6849 - accuracy: 0.1011 - val_loss: 22.2908 - val_accuracy: 0.1000\n",
            "313/313 [==============================] - 1s 2ms/step - loss: 22.2908 - accuracy: 0.1000\n",
            "Model: \"NetC\"\n",
            "_________________________________________________________________\n",
            "Layer (type)                 Output Shape              Param #   \n",
            "=================================================================\n",
            "conv2d (Conv2D)              (None, 28, 28, 25)        1900      \n",
            "_________________________________________________________________\n",
            "max_pooling2d (MaxPooling2D) (None, 14, 14, 25)        0         \n",
            "_________________________________________________________________\n",
            "flatten_1 (Flatten)          (None, 4900)              0         \n",
            "_________________________________________________________________\n",
            "dense_1 (Dense)              (None, 10)                49010     \n",
            "=================================================================\n",
            "Total params: 50,910\n",
            "Trainable params: 50,910\n",
            "Non-trainable params: 0\n",
            "_________________________________________________________________\n",
            "None\n",
            "Epoch 1/50\n",
            "1563/1563 [==============================] - 33s 3ms/step - loss: 115556.1953 - accuracy: 0.1011 - val_loss: 21.6938 - val_accuracy: 0.1000\n",
            "Epoch 2/50\n",
            "1563/1563 [==============================] - 5s 3ms/step - loss: 22.6684 - accuracy: 0.0983 - val_loss: 19.1228 - val_accuracy: 0.1000\n",
            "Epoch 3/50\n",
            "1563/1563 [==============================] - 5s 3ms/step - loss: 23.7834 - accuracy: 0.1001 - val_loss: 21.9572 - val_accuracy: 0.1000\n",
            "Epoch 4/50\n",
            "1563/1563 [==============================] - 5s 3ms/step - loss: 24.0165 - accuracy: 0.1012 - val_loss: 31.7236 - val_accuracy: 0.1000\n",
            "Epoch 5/50\n",
            "1563/1563 [==============================] - 5s 3ms/step - loss: 24.0898 - accuracy: 0.0985 - val_loss: 27.1118 - val_accuracy: 0.1000\n",
            "Epoch 6/50\n",
            "1563/1563 [==============================] - 5s 3ms/step - loss: 22.6535 - accuracy: 0.1023 - val_loss: 19.0695 - val_accuracy: 0.1000\n",
            "Epoch 7/50\n",
            "1563/1563 [==============================] - 5s 3ms/step - loss: 23.0586 - accuracy: 0.1012 - val_loss: 15.7397 - val_accuracy: 0.1000\n",
            "Epoch 8/50\n",
            "1563/1563 [==============================] - 5s 3ms/step - loss: 23.5703 - accuracy: 0.0996 - val_loss: 26.4373 - val_accuracy: 0.1000\n",
            "Epoch 9/50\n",
            "1563/1563 [==============================] - 5s 3ms/step - loss: 23.4796 - accuracy: 0.1000 - val_loss: 14.1736 - val_accuracy: 0.1000\n",
            "Epoch 10/50\n",
            "1563/1563 [==============================] - 5s 3ms/step - loss: 22.4838 - accuracy: 0.1021 - val_loss: 36.3943 - val_accuracy: 0.1000\n",
            "Epoch 11/50\n",
            "1563/1563 [==============================] - 5s 3ms/step - loss: 24.2162 - accuracy: 0.1017 - val_loss: 22.1300 - val_accuracy: 0.1000\n",
            "Epoch 12/50\n",
            "1563/1563 [==============================] - 5s 3ms/step - loss: 23.2720 - accuracy: 0.1002 - val_loss: 12.6528 - val_accuracy: 0.1000\n",
            "Epoch 13/50\n",
            "1563/1563 [==============================] - 5s 3ms/step - loss: 23.5587 - accuracy: 0.0994 - val_loss: 25.7763 - val_accuracy: 0.1000\n",
            "Epoch 14/50\n",
            "1563/1563 [==============================] - 5s 3ms/step - loss: 23.5815 - accuracy: 0.1005 - val_loss: 20.2576 - val_accuracy: 0.1000\n",
            "Epoch 15/50\n",
            "1563/1563 [==============================] - 5s 3ms/step - loss: 23.3437 - accuracy: 0.0994 - val_loss: 23.6613 - val_accuracy: 0.1000\n",
            "Epoch 16/50\n",
            "1563/1563 [==============================] - 5s 3ms/step - loss: 23.3609 - accuracy: 0.1006 - val_loss: 23.7420 - val_accuracy: 0.1000\n",
            "Epoch 17/50\n",
            "1563/1563 [==============================] - 5s 3ms/step - loss: 22.8515 - accuracy: 0.0984 - val_loss: 23.5412 - val_accuracy: 0.1000\n",
            "Epoch 18/50\n",
            "1563/1563 [==============================] - 5s 3ms/step - loss: 23.3130 - accuracy: 0.1008 - val_loss: 21.3556 - val_accuracy: 0.1000\n",
            "Epoch 19/50\n",
            "1563/1563 [==============================] - 5s 3ms/step - loss: 23.3729 - accuracy: 0.1008 - val_loss: 23.9715 - val_accuracy: 0.1000\n",
            "Epoch 20/50\n",
            "1563/1563 [==============================] - 5s 3ms/step - loss: 23.3397 - accuracy: 0.1002 - val_loss: 29.1432 - val_accuracy: 0.1000\n",
            "Epoch 21/50\n",
            "1563/1563 [==============================] - 5s 3ms/step - loss: 22.2943 - accuracy: 0.0990 - val_loss: 9.4282 - val_accuracy: 0.1000\n",
            "Epoch 22/50\n",
            "1563/1563 [==============================] - 5s 3ms/step - loss: 23.3752 - accuracy: 0.1014 - val_loss: 27.8347 - val_accuracy: 0.1000\n",
            "Epoch 23/50\n",
            "1563/1563 [==============================] - 5s 3ms/step - loss: 23.3154 - accuracy: 0.0994 - val_loss: 21.0266 - val_accuracy: 0.1000\n",
            "Epoch 24/50\n",
            "1563/1563 [==============================] - 5s 3ms/step - loss: 24.3264 - accuracy: 0.0987 - val_loss: 19.6511 - val_accuracy: 0.1000\n",
            "Epoch 25/50\n",
            "1563/1563 [==============================] - 5s 3ms/step - loss: 23.0362 - accuracy: 0.0983 - val_loss: 25.4931 - val_accuracy: 0.1000\n",
            "Epoch 26/50\n",
            "1563/1563 [==============================] - 5s 3ms/step - loss: 23.7044 - accuracy: 0.1008 - val_loss: 22.2066 - val_accuracy: 0.1000\n",
            "Epoch 27/50\n",
            "1563/1563 [==============================] - 5s 3ms/step - loss: 23.4120 - accuracy: 0.0996 - val_loss: 28.5362 - val_accuracy: 0.1000\n",
            "Epoch 28/50\n",
            "1563/1563 [==============================] - 5s 3ms/step - loss: 23.2129 - accuracy: 0.0980 - val_loss: 19.1932 - val_accuracy: 0.1000\n",
            "Epoch 29/50\n",
            "1563/1563 [==============================] - 5s 3ms/step - loss: 23.9135 - accuracy: 0.1000 - val_loss: 26.4959 - val_accuracy: 0.1000\n",
            "Epoch 30/50\n",
            "1563/1563 [==============================] - 5s 3ms/step - loss: 23.0938 - accuracy: 0.1016 - val_loss: 34.1447 - val_accuracy: 0.1000\n",
            "Epoch 31/50\n",
            "1563/1563 [==============================] - 5s 3ms/step - loss: 22.8632 - accuracy: 0.1013 - val_loss: 26.3248 - val_accuracy: 0.1000\n",
            "Epoch 32/50\n",
            "1563/1563 [==============================] - 5s 3ms/step - loss: 22.6997 - accuracy: 0.0993 - val_loss: 14.3496 - val_accuracy: 0.1000\n",
            "Epoch 33/50\n",
            "1563/1563 [==============================] - 5s 3ms/step - loss: 22.6861 - accuracy: 0.0975 - val_loss: 24.8760 - val_accuracy: 0.1000\n",
            "Epoch 34/50\n",
            "1563/1563 [==============================] - 5s 3ms/step - loss: 22.6609 - accuracy: 0.0976 - val_loss: 25.1059 - val_accuracy: 0.1000\n",
            "Epoch 35/50\n",
            "1563/1563 [==============================] - 5s 3ms/step - loss: 24.4162 - accuracy: 0.1018 - val_loss: 16.7323 - val_accuracy: 0.1000\n",
            "Epoch 36/50\n",
            "1563/1563 [==============================] - 5s 3ms/step - loss: 23.5629 - accuracy: 0.0991 - val_loss: 22.3621 - val_accuracy: 0.1000\n",
            "Epoch 37/50\n",
            "1563/1563 [==============================] - 5s 3ms/step - loss: 23.2101 - accuracy: 0.0996 - val_loss: 17.3913 - val_accuracy: 0.1000\n",
            "Epoch 38/50\n",
            "1563/1563 [==============================] - 5s 3ms/step - loss: 23.1899 - accuracy: 0.1006 - val_loss: 16.5282 - val_accuracy: 0.1000\n",
            "Epoch 39/50\n",
            "1563/1563 [==============================] - 5s 3ms/step - loss: 22.2837 - accuracy: 0.0986 - val_loss: 20.7092 - val_accuracy: 0.1000\n",
            "Epoch 40/50\n",
            "1563/1563 [==============================] - 5s 3ms/step - loss: 23.2936 - accuracy: 0.0999 - val_loss: 34.2921 - val_accuracy: 0.1000\n",
            "Epoch 41/50\n",
            "1563/1563 [==============================] - 5s 3ms/step - loss: 22.6492 - accuracy: 0.1004 - val_loss: 17.7276 - val_accuracy: 0.1000\n",
            "Epoch 42/50\n",
            "1563/1563 [==============================] - 5s 3ms/step - loss: 23.2849 - accuracy: 0.1003 - val_loss: 21.1460 - val_accuracy: 0.1000\n",
            "Epoch 43/50\n",
            "1563/1563 [==============================] - 5s 3ms/step - loss: 22.6869 - accuracy: 0.0995 - val_loss: 26.5273 - val_accuracy: 0.1000\n",
            "Epoch 44/50\n",
            "1563/1563 [==============================] - 5s 3ms/step - loss: 23.3849 - accuracy: 0.0990 - val_loss: 28.6070 - val_accuracy: 0.1000\n",
            "Epoch 45/50\n",
            "1563/1563 [==============================] - 5s 3ms/step - loss: 22.9602 - accuracy: 0.1005 - val_loss: 28.1045 - val_accuracy: 0.1000\n",
            "Epoch 46/50\n",
            "1563/1563 [==============================] - 5s 3ms/step - loss: 23.2303 - accuracy: 0.0969 - val_loss: 29.1141 - val_accuracy: 0.1000\n",
            "Epoch 47/50\n",
            "1563/1563 [==============================] - 5s 3ms/step - loss: 23.3976 - accuracy: 0.1025 - val_loss: 15.8428 - val_accuracy: 0.1000\n",
            "Epoch 48/50\n",
            "1563/1563 [==============================] - 5s 3ms/step - loss: 23.5197 - accuracy: 0.0985 - val_loss: 22.0408 - val_accuracy: 0.1000\n",
            "Epoch 49/50\n",
            "1563/1563 [==============================] - 5s 3ms/step - loss: 22.5375 - accuracy: 0.1014 - val_loss: 28.3688 - val_accuracy: 0.1000\n",
            "Epoch 50/50\n",
            "1563/1563 [==============================] - 5s 3ms/step - loss: 23.0112 - accuracy: 0.1020 - val_loss: 33.5472 - val_accuracy: 0.1000\n",
            "313/313 [==============================] - 1s 2ms/step - loss: 33.5472 - accuracy: 0.1000\n"
          ],
          "name": "stdout"
        }
      ]
    },
    {
      "cell_type": "code",
      "metadata": {
        "colab": {
          "base_uri": "https://localhost:8080/"
        },
        "id": "g39dl7Wk7I0e",
        "outputId": "2978b3f6-b631-423a-824b-a8c039913ad5"
      },
      "source": [
        "print(Model_names)"
      ],
      "execution_count": 15,
      "outputs": [
        {
          "output_type": "stream",
          "text": [
            "['NetA', 'NetB', 'NetC']\n"
          ],
          "name": "stdout"
        }
      ]
    },
    {
      "cell_type": "code",
      "metadata": {
        "id": "pIEpBCbALCa5"
      },
      "source": [
        "def plot_curves(histories,Test_accuracies,model_names):\n",
        "  #history = model.history\n",
        "  \n",
        "  for (index,model_history,model_name,Test_accuracies) in zip(range(3),histories,model_names,Test_accuracies):\n",
        "    print(\"model {0} has {1} Training accuracy and {2} Test accuracy\".format(model_names[index],model_history.history['accuracy'][-1],Test_accuracies[1]))\n",
        "    plt.subplots()\n",
        "    plt.plot(model_history.history['accuracy'])\n",
        "    plt.plot(model_history.history['val_accuracy'])\n",
        "    plt.title('model accuracy of {0}'.format(model_name))\n",
        "    plt.ylabel('accuracy')\n",
        "    plt.xlabel('epoch')\n",
        "    plt.legend(['train', 'test'], loc='upper left')\n",
        "  \n",
        "  "
      ],
      "execution_count": 16,
      "outputs": []
    },
    {
      "cell_type": "code",
      "metadata": {
        "colab": {
          "base_uri": "https://localhost:8080/",
          "height": 905
        },
        "id": "YIs0eMScoy9W",
        "outputId": "234fdd11-d8c4-4c19-9e8e-85007cbe50bc"
      },
      "source": [
        "plot_curves(model_histories,Test_accuracies,Model_names)"
      ],
      "execution_count": 18,
      "outputs": [
        {
          "output_type": "stream",
          "text": [
            "model NetA has 0.3041599988937378 Training accuracy and 0.2678999900817871 Test accuracy\n",
            "model NetB has 0.10109999775886536 Training accuracy and 0.10000000149011612 Test accuracy\n",
            "model NetC has 0.10198000073432922 Training accuracy and 0.10000000149011612 Test accuracy\n"
          ],
          "name": "stdout"
        },
        {
          "output_type": "display_data",
          "data": {
            "image/png": "[encoded data removed]",
            "text/plain": [
              "<Figure size 432x288 with 1 Axes>"
            ]
          },
          "metadata": {
            "tags": [],
            "needs_background": "light"
          }
        },
        {
          "output_type": "display_data",
          "data": {
            "image/png": "[encoded data removed]",
            "text/plain": [
              "<Figure size 432x288 with 1 Axes>"
            ]
          },
          "metadata": {
            "tags": [],
            "needs_background": "light"
          }
        },
        {
          "output_type": "display_data",
          "data": {
            "image/png": "[encoded data removed]",
            "text/plain": [
              "<Figure size 432x288 with 1 Axes>"
            ]
          },
          "metadata": {
            "tags": [],
            "needs_background": "light"
          }
        }
      ]
    },
    {
      "cell_type": "code",
      "metadata": {
        "id": "x-5OMPEo-4t6"
      },
      "source": [
        ""
      ],
      "execution_count": null,
      "outputs": []
    },
    {
      "cell_type": "code",
      "metadata": {
        "id": "ELGRrd8H_EyR"
      },
      "source": [
        ""
      ],
      "execution_count": null,
      "outputs": []
    }
  ]
}